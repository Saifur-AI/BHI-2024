{
 "cells": [
  {
   "cell_type": "markdown",
   "id": "38c82f9f",
   "metadata": {},
   "source": [
    "#### Surrogate Model"
   ]
  },
  {
   "cell_type": "code",
   "execution_count": 1,
   "id": "161d9187",
   "metadata": {},
   "outputs": [
    {
     "name": "stdout",
     "output_type": "stream",
     "text": [
      "(30724, 9)\n"
     ]
    }
   ],
   "source": [
    "import pandas as pd\n",
    "df = pd.read_csv('updated_glucose_predictions.csv')\n",
    "print(df.shape)"
   ]
  },
  {
   "cell_type": "code",
   "execution_count": 2,
   "id": "cd9c6880",
   "metadata": {},
   "outputs": [
    {
     "name": "stdout",
     "output_type": "stream",
     "text": [
      "Features: ['Glucose_Level_1', 'Glucose_Level_2', 'Glucose_Level_3', 'Glucose_Level_4', 'Glucose_Level_5', 'Glucose_Level_6', 'HbA1C', 'Gender']\n"
     ]
    }
   ],
   "source": [
    "# Features (X) and Target (y)\n",
    "X = df.drop(columns=[\"Prediction\"])\n",
    "y = df[\"Prediction\"]\n",
    "\n",
    "# Display feature names\n",
    "print(\"Features:\", X.columns.tolist())\n"
   ]
  },
  {
   "cell_type": "code",
   "execution_count": 3,
   "id": "0fea515e",
   "metadata": {},
   "outputs": [
    {
     "name": "stdout",
     "output_type": "stream",
     "text": [
      "Training samples: 21506\n",
      "Testing samples: 9218\n"
     ]
    }
   ],
   "source": [
    "from sklearn.model_selection import train_test_split\n",
    "\n",
    "# Split data: 80% training, 20% testing\n",
    "X_train, X_test, y_train, y_test = train_test_split(\n",
    "    X, y, test_size=0.3, random_state=42\n",
    ")\n",
    "\n",
    "print(f\"Training samples: {X_train.shape[0]}\")\n",
    "print(f\"Testing samples: {X_test.shape[0]}\")\n"
   ]
  },
  {
   "cell_type": "code",
   "execution_count": 4,
   "id": "f832b812",
   "metadata": {},
   "outputs": [],
   "source": [
    "from sklearn.ensemble import RandomForestRegressor\n",
    "from sklearn.metrics import mean_squared_error\n",
    "\n",
    "# Initialize the model\n",
    "surrogate_model = RandomForestRegressor(n_estimators=100, random_state=42)\n",
    "\n",
    "# Train the model\n",
    "surrogate_model.fit(X_train, y_train)\n",
    "\n",
    "# Predict on the test set\n",
    "y_pred = surrogate_model.predict(X_test)\n",
    "\n",
    "# Evaluate the model\n"
   ]
  },
  {
   "cell_type": "code",
   "execution_count": 6,
   "id": "1e967131",
   "metadata": {},
   "outputs": [
    {
     "name": "stdout",
     "output_type": "stream",
     "text": [
      "Training Set Performance:\n",
      "MSE: 0.004, MAE: 0.03, R2: 1.00\n",
      "\n",
      "Test Set Performance:\n",
      "MSE: 0.04, MAE: 0.09, R2: 1.00\n"
     ]
    }
   ],
   "source": [
    "from sklearn.metrics import mean_absolute_error, mean_squared_error, r2_score\n",
    "\n",
    "y_train_pred = surrogate_model.predict(X_train)\n",
    "y_test_pred = surrogate_model.predict(X_test)\n",
    "\n",
    "# Calculate metrics for the training set\n",
    "train_mse = mean_squared_error(y_train, y_train_pred)\n",
    "train_mae = mean_absolute_error(y_train, y_train_pred)\n",
    "train_r2 = r2_score(y_train, y_train_pred)\n",
    "\n",
    "# Calculate metrics for the test set\n",
    "test_mse = mean_squared_error(y_test, y_test_pred)\n",
    "test_mae = mean_absolute_error(y_test, y_test_pred)\n",
    "test_r2 = r2_score(y_test, y_test_pred)\n",
    "\n",
    "# Print results\n",
    "print(\"Training Set Performance:\")\n",
    "print(f\"MSE: {train_mse:.3f}, MAE: {train_mae:.2f}, R2: {train_r2:.2f}\")\n",
    "print(\"\\nTest Set Performance:\")\n",
    "print(f\"MSE: {test_mse:.2f}, MAE: {test_mae:.2f}, R2: {test_r2:.2f}\")"
   ]
  },
  {
   "cell_type": "markdown",
   "id": "7360690d",
   "metadata": {},
   "source": [
    "#### Interpreability\n"
   ]
  },
  {
   "cell_type": "code",
   "execution_count": null,
   "id": "8061ff41",
   "metadata": {},
   "outputs": [],
   "source": [
    "import shap\n",
    "\n",
    "# Initialize the SHAP explainer\n",
    "explainer = shap.TreeExplainer(surrogate_model)\n",
    "\n",
    "# Compute SHAP values for the test set\n",
    "shap_values = explainer.shap_values(X_test)\n"
   ]
  },
  {
   "cell_type": "code",
   "execution_count": null,
   "id": "2233dde7",
   "metadata": {},
   "outputs": [],
   "source": [
    "import matplotlib.pyplot as plt\n",
    "# Summary plot\n",
    "plt.figure(figsize=(10, 6))\n",
    "shap.summary_plot(shap_values, X_test,feature_names=['Glucose_1', 'Glucose_2', 'Glucose_3',\n",
    "       'Glucose_4', 'Glucose_5', 'Glucose_6', 'HbA1C',\n",
    "       'Gender'])\n",
    "\n"
   ]
  },
  {
   "cell_type": "code",
   "execution_count": null,
   "id": "17b93008",
   "metadata": {},
   "outputs": [],
   "source": [
    "import lime\n",
    "from lime.lime_tabular import LimeTabularExplainer\n",
    "import matplotlib.pyplot as plt\n",
    "\n",
    "# Create a LIME explainer\n",
    "explainer = LimeTabularExplainer(\n",
    "    training_data=X_train.values,\n",
    "    feature_names=X_train.columns,\n",
    "    class_names=['Prediction'],\n",
    "    mode='regression'\n",
    ")\n",
    "\n",
    "# Select instances to explain (e.g., first 5 instances in the test set)\n",
    "num_instances = 3\n",
    "instance_indices = range(num_instances)  # Adjust the range as needed\n",
    "\n",
    "# Create a figure to hold multiple subplots\n",
    "fig, axes = plt.subplots(nrows=num_instances, ncols=1, figsize=(8, 4 * num_instances))\n",
    "\n",
    "for i, index in enumerate(instance_indices):\n",
    "    instance = X_test.iloc[index].values  # Select the instance to explain\n",
    "\n",
    "    # Get LIME explanation\n",
    "    lime_explanation = explainer.explain_instance(\n",
    "        instance,\n",
    "        surrogate_model.predict,\n",
    "        num_features=8\n",
    "    )\n",
    "\n",
    "    # Plot LIME explanation\n",
    "    lime_explanation.as_pyplot_figure()\n",
    "    plt.title(f'LIME Explanation for Instance {index}')\n",
    "    plt.show()  # Show each plot sequentially\n",
    "    lime_explanation.show_in_notebook(show_table=True, show_all=True)\n",
    "\n",
    "# Close the plot if needed (optional)\n",
    "plt.close()\n"
   ]
  }
 ],
 "metadata": {
  "kernelspec": {
   "display_name": "Python 3 (ipykernel)",
   "language": "python",
   "name": "python3"
  },
  "language_info": {
   "codemirror_mode": {
    "name": "ipython",
    "version": 3
   },
   "file_extension": ".py",
   "mimetype": "text/x-python",
   "name": "python",
   "nbconvert_exporter": "python",
   "pygments_lexer": "ipython3",
   "version": "3.9.13"
  }
 },
 "nbformat": 4,
 "nbformat_minor": 5
}
